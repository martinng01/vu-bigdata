{
 "cells": [
  {
   "cell_type": "code",
   "execution_count": 21,
   "metadata": {},
   "outputs": [],
   "source": [
    "import pandas as pd\n",
    "import numpy as np\n",
    "from haversine import haversine, Unit"
   ]
  },
  {
   "cell_type": "code",
   "execution_count": 22,
   "metadata": {},
   "outputs": [],
   "source": [
    "df = pd.read_csv('data/aisdk-2024-09-11.csv')"
   ]
  },
  {
   "cell_type": "code",
   "execution_count": 23,
   "metadata": {},
   "outputs": [
    {
     "name": "stdout",
     "output_type": "stream",
     "text": [
      "<class 'pandas.core.frame.DataFrame'>\n",
      "RangeIndex: 17880299 entries, 0 to 17880298\n",
      "Data columns (total 26 columns):\n",
      " #   Column                          Dtype  \n",
      "---  ------                          -----  \n",
      " 0   # Timestamp                     object \n",
      " 1   Type of mobile                  object \n",
      " 2   MMSI                            int64  \n",
      " 3   Latitude                        float64\n",
      " 4   Longitude                       float64\n",
      " 5   Navigational status             object \n",
      " 6   ROT                             float64\n",
      " 7   SOG                             float64\n",
      " 8   COG                             float64\n",
      " 9   Heading                         float64\n",
      " 10  IMO                             object \n",
      " 11  Callsign                        object \n",
      " 12  Name                            object \n",
      " 13  Ship type                       object \n",
      " 14  Cargo type                      object \n",
      " 15  Width                           float64\n",
      " 16  Length                          float64\n",
      " 17  Type of position fixing device  object \n",
      " 18  Draught                         float64\n",
      " 19  Destination                     object \n",
      " 20  ETA                             object \n",
      " 21  Data source type                object \n",
      " 22  A                               float64\n",
      " 23  B                               float64\n",
      " 24  C                               float64\n",
      " 25  D                               float64\n",
      "dtypes: float64(13), int64(1), object(12)\n",
      "memory usage: 3.5+ GB\n"
     ]
    }
   ],
   "source": [
    "df.info(verbose=True)"
   ]
  },
  {
   "cell_type": "code",
   "execution_count": 18,
   "metadata": {},
   "outputs": [
    {
     "data": {
      "text/plain": [
       "# Timestamp                          11/09/2024 00:00:00\n",
       "Type of mobile                                   Class A\n",
       "MMSI                                           220276000\n",
       "Latitude                                       56.953808\n",
       "Longitude                                       8.694445\n",
       "Navigational status               Under way using engine\n",
       "ROT                                                  0.0\n",
       "SOG                                                  0.0\n",
       "COG                                                  NaN\n",
       "Heading                                             86.0\n",
       "IMO                                              Unknown\n",
       "Callsign                                         Unknown\n",
       "Name                                                 NaN\n",
       "Ship type                                      Undefined\n",
       "Cargo type                                           NaN\n",
       "Width                                                NaN\n",
       "Length                                               NaN\n",
       "Type of position fixing device                 Undefined\n",
       "Draught                                              NaN\n",
       "Destination                                      Unknown\n",
       "ETA                                                  NaN\n",
       "Data source type                                     AIS\n",
       "A                                                    NaN\n",
       "B                                                    NaN\n",
       "C                                                    NaN\n",
       "D                                                    NaN\n",
       "Name: 1, dtype: object"
      ]
     },
     "execution_count": 18,
     "metadata": {},
     "output_type": "execute_result"
    }
   ],
   "source": [
    "df.iloc[1]"
   ]
  },
  {
   "cell_type": "code",
   "execution_count": 13,
   "metadata": {},
   "outputs": [],
   "source": [
    "def detect_gps_spoofing(df: pd.DataFrame):\n",
    "    anomalies = []\n",
    "    for i in range(1, len(df)):\n",
    "        prev = df.iloc[i - 1]\n",
    "        curr = df.iloc[i]\n",
    "        prev_coords = (prev['Latitude'], prev['Longitude'])\n",
    "        curr_coords = (curr['Latitude'], curr['Longitude'])\n",
    "\n",
    "        # In km\n",
    "        distance = haversine(prev_coords, curr_coords, unit=Unit.KILOMETERS)\n",
    "\n",
    "        # In hours\n",
    "        time = (pd.to_datetime(\n",
    "            curr['# Timestamp']) - pd.to_datetime(prev['# Timestamp'])).total_seconds() / 3600.0\n",
    "\n",
    "        # Calculate speed\n",
    "        speed = distance / time if time > 0 else 0\n",
    "\n",
    "        # https://sahyogfreight.com/blog/cargo-ship-speed/#:~:text=The%20optimal%20speed%20of%20a,travel%20at%20around%2015%20knots.\n",
    "        # 24 knots maximum speed = 44.4kmh\n",
    "        if speed > 44.4:\n",
    "            anomalies.append(curr)\n",
    "    return anomalies"
   ]
  },
  {
   "cell_type": "code",
   "execution_count": 9,
   "metadata": {},
   "outputs": [
    {
     "data": {
      "text/plain": [
       "58"
      ]
     },
     "execution_count": 9,
     "metadata": {},
     "output_type": "execute_result"
    }
   ],
   "source": [
    "len(detect_gps_spoofing(mmsi_df[0]))"
   ]
  },
  {
   "cell_type": "code",
   "execution_count": 12,
   "metadata": {},
   "outputs": [
    {
     "data": {
      "text/plain": [
       "221728"
      ]
     },
     "execution_count": 12,
     "metadata": {},
     "output_type": "execute_result"
    }
   ],
   "source": [
    "mmsi_df[0].size"
   ]
  },
  {
   "cell_type": "code",
   "execution_count": null,
   "metadata": {},
   "outputs": [],
   "source": []
  }
 ],
 "metadata": {
  "kernelspec": {
   "display_name": "bigdata",
   "language": "python",
   "name": "python3"
  },
  "language_info": {
   "codemirror_mode": {
    "name": "ipython",
    "version": 3
   },
   "file_extension": ".py",
   "mimetype": "text/x-python",
   "name": "python",
   "nbconvert_exporter": "python",
   "pygments_lexer": "ipython3",
   "version": "3.12.9"
  }
 },
 "nbformat": 4,
 "nbformat_minor": 2
}
